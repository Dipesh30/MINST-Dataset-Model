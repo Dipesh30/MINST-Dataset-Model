{
  "nbformat": 4,
  "nbformat_minor": 0,
  "metadata": {
    "colab": {
      "provenance": []
    },
    "kernelspec": {
      "name": "python3",
      "display_name": "Python 3"
    },
    "accelerator": "GPU"
  },
  "cells": [
    {
      "cell_type": "code",
      "metadata": {
        "colab": {
          "base_uri": "https://localhost:8080/",
          "height": 35
        },
        "id": "lkd4boJK-vDj",
        "outputId": "9842d5de-97e9-466f-ef06-f3801760405b"
      },
      "source": [
        "# Larger CNN for the MNIST Dataset\n",
        "import numpy\n",
        "import cv2\n",
        "from keras.datasets import mnist\n",
        "from tensorflow.keras.models import Sequential\n",
        "from tensorflow.keras.layers import Dense\n",
        "from tensorflow.keras.layers import Dropout\n",
        "from tensorflow.keras.layers import Flatten\n",
        "from tensorflow.keras.layers import Conv3D, Conv2D\n",
        "from tensorflow.keras.layers import MaxPooling2D\n",
        "from keras.utils import np_utils\n",
        "from keras import backend as K\n",
        "import matplotlib.pyplot as plt\n",
        "import tensorflow as tf\n",
        "K.image_data_format()"
      ],
      "execution_count": null,
      "outputs": [
        {
          "output_type": "execute_result",
          "data": {
            "application/vnd.google.colaboratory.intrinsic+json": {
              "type": "string"
            },
            "text/plain": [
              "'channels_last'"
            ]
          },
          "metadata": {
            "tags": []
          },
          "execution_count": 1
        }
      ]
    },
    {
      "cell_type": "code",
      "metadata": {
        "colab": {
          "base_uri": "https://localhost:8080/"
        },
        "id": "fUVdRQ6bB93O",
        "outputId": "596fc704-c4a3-468b-8400-72f7d47b5fda"
      },
      "source": [
        "# Fix random seed for reproducibility\n",
        "seed = 7\n",
        "numpy.random.seed(seed)\n",
        "\n",
        "(X_train, y_train), (X_test, y_test) = mnist.load_data()\n",
        "\n",
        "# Reshape to be samples*pixels*width*height\n",
        "X_train = X_train.reshape(X_train.shape[0], 1, 28, 28).astype('float32')\n",
        "X_test = X_test.reshape(X_test.shape[0], 1, 28, 28).astype('float32')\n",
        "\n",
        "# Normalize inputs from 0-255 to 0-1\n",
        "X_train = X_train / 255\n",
        "X_test = X_test / 255\n",
        "\n",
        "# One Hot encode outputs\n",
        "y_train = np_utils.to_categorical(y_train)\n",
        "y_test = np_utils.to_categorical(y_test)\n",
        "num_classes = y_test.shape[1]"
      ],
      "execution_count": null,
      "outputs": [
        {
          "output_type": "stream",
          "text": [
            "Downloading data from https://storage.googleapis.com/tensorflow/tf-keras-datasets/mnist.npz\n",
            "11493376/11490434 [==============================] - 0s 0us/step\n"
          ],
          "name": "stdout"
        }
      ]
    },
    {
      "cell_type": "code",
      "metadata": {
        "colab": {
          "base_uri": "https://localhost:8080/"
        },
        "id": "Ee5-G6GiCCGN",
        "outputId": "2f6cc494-c65b-4ef7-ce31-6c1f563b35c5"
      },
      "source": [
        "# Create model\n",
        "model = Sequential()\n",
        "model.add(Conv2D(32, (3,3), input_shape=(1, 28, 28), activation='relu', strides = 1, padding='same'))\n",
        "model.add(MaxPooling2D(pool_size=(2, 2), padding='same', data_format='channels_last'))\n",
        "model.add(Conv2D(16, (3, 3), activation='relu', strides = 1, padding='same'))\n",
        "model.add(MaxPooling2D(pool_size=(2, 2), padding='same', data_format='channels_last'))\n",
        "model.add(Dropout(0.2))\n",
        "model.add(Flatten())\n",
        "model.add(Dense(128, activation='relu'))\n",
        "model.add(Dense(64, activation='relu'))\n",
        "model.add(Dense(num_classes, activation='softmax'))\n",
        "\n",
        "model.compile(loss='categorical_crossentropy', optimizer='adam', metrics=['accuracy'])\n",
        "model.fit(X_train, y_train, validation_data=(X_test, y_test), epochs=100, batch_size=32)\n",
        "\n",
        "# Final evaluation of the model\n",
        "scores = model.evaluate(X_test, y_test, verbose=0)\n",
        "print(\"Large CNN Error: %.2f%%\" % (100-scores[1]*100))"
      ],
      "execution_count": null,
      "outputs": [
        {
          "output_type": "stream",
          "text": [
            "Epoch 1/100\n",
            "1875/1875 [==============================] - 13s 3ms/step - loss: 0.6236 - accuracy: 0.7979 - val_loss: 0.0980 - val_accuracy: 0.9685\n",
            "Epoch 2/100\n",
            "1875/1875 [==============================] - 5s 3ms/step - loss: 0.1522 - accuracy: 0.9526 - val_loss: 0.0738 - val_accuracy: 0.9752\n",
            "Epoch 3/100\n",
            "1875/1875 [==============================] - 5s 3ms/step - loss: 0.1069 - accuracy: 0.9664 - val_loss: 0.0563 - val_accuracy: 0.9812\n",
            "Epoch 4/100\n",
            "1875/1875 [==============================] - 5s 3ms/step - loss: 0.0918 - accuracy: 0.9717 - val_loss: 0.0524 - val_accuracy: 0.9823\n",
            "Epoch 5/100\n",
            "1875/1875 [==============================] - 5s 3ms/step - loss: 0.0806 - accuracy: 0.9746 - val_loss: 0.0437 - val_accuracy: 0.9838\n",
            "Epoch 6/100\n",
            "1875/1875 [==============================] - 6s 3ms/step - loss: 0.0704 - accuracy: 0.9769 - val_loss: 0.0540 - val_accuracy: 0.9832\n",
            "Epoch 7/100\n",
            "1875/1875 [==============================] - 5s 3ms/step - loss: 0.0636 - accuracy: 0.9803 - val_loss: 0.0461 - val_accuracy: 0.9853\n",
            "Epoch 8/100\n",
            "1875/1875 [==============================] - 6s 3ms/step - loss: 0.0594 - accuracy: 0.9808 - val_loss: 0.0389 - val_accuracy: 0.9881\n",
            "Epoch 9/100\n",
            "1875/1875 [==============================] - 5s 3ms/step - loss: 0.0545 - accuracy: 0.9823 - val_loss: 0.0414 - val_accuracy: 0.9867\n",
            "Epoch 10/100\n",
            "1875/1875 [==============================] - 5s 3ms/step - loss: 0.0535 - accuracy: 0.9830 - val_loss: 0.0415 - val_accuracy: 0.9870\n",
            "Epoch 11/100\n",
            "1875/1875 [==============================] - 5s 3ms/step - loss: 0.0521 - accuracy: 0.9829 - val_loss: 0.0379 - val_accuracy: 0.9882\n",
            "Epoch 12/100\n",
            "1875/1875 [==============================] - 5s 3ms/step - loss: 0.0479 - accuracy: 0.9839 - val_loss: 0.0346 - val_accuracy: 0.9880\n",
            "Epoch 13/100\n",
            "1875/1875 [==============================] - 5s 3ms/step - loss: 0.0450 - accuracy: 0.9858 - val_loss: 0.0355 - val_accuracy: 0.9894\n",
            "Epoch 14/100\n",
            "1875/1875 [==============================] - 5s 3ms/step - loss: 0.0422 - accuracy: 0.9865 - val_loss: 0.0416 - val_accuracy: 0.9865\n",
            "Epoch 15/100\n",
            "1875/1875 [==============================] - 5s 3ms/step - loss: 0.0410 - accuracy: 0.9863 - val_loss: 0.0375 - val_accuracy: 0.9873\n",
            "Epoch 16/100\n",
            "1875/1875 [==============================] - 5s 3ms/step - loss: 0.0393 - accuracy: 0.9867 - val_loss: 0.0343 - val_accuracy: 0.9886\n",
            "Epoch 17/100\n",
            "1875/1875 [==============================] - 5s 3ms/step - loss: 0.0396 - accuracy: 0.9858 - val_loss: 0.0326 - val_accuracy: 0.9895\n",
            "Epoch 18/100\n",
            "1875/1875 [==============================] - 5s 3ms/step - loss: 0.0412 - accuracy: 0.9862 - val_loss: 0.0380 - val_accuracy: 0.9876\n",
            "Epoch 19/100\n",
            "1875/1875 [==============================] - 6s 3ms/step - loss: 0.0376 - accuracy: 0.9879 - val_loss: 0.0341 - val_accuracy: 0.9895\n",
            "Epoch 20/100\n",
            "1875/1875 [==============================] - 5s 3ms/step - loss: 0.0374 - accuracy: 0.9876 - val_loss: 0.0368 - val_accuracy: 0.9879\n",
            "Epoch 21/100\n",
            "1875/1875 [==============================] - 5s 3ms/step - loss: 0.0354 - accuracy: 0.9883 - val_loss: 0.0377 - val_accuracy: 0.9878\n",
            "Epoch 22/100\n",
            "1875/1875 [==============================] - 5s 3ms/step - loss: 0.0372 - accuracy: 0.9877 - val_loss: 0.0309 - val_accuracy: 0.9901\n",
            "Epoch 23/100\n",
            "1875/1875 [==============================] - 5s 3ms/step - loss: 0.0362 - accuracy: 0.9881 - val_loss: 0.0326 - val_accuracy: 0.9898\n",
            "Epoch 24/100\n",
            "1875/1875 [==============================] - 6s 3ms/step - loss: 0.0315 - accuracy: 0.9899 - val_loss: 0.0362 - val_accuracy: 0.9899\n",
            "Epoch 25/100\n",
            "1875/1875 [==============================] - 5s 3ms/step - loss: 0.0343 - accuracy: 0.9887 - val_loss: 0.0396 - val_accuracy: 0.9884\n",
            "Epoch 26/100\n",
            "1875/1875 [==============================] - 6s 3ms/step - loss: 0.0347 - accuracy: 0.9891 - val_loss: 0.0353 - val_accuracy: 0.9892\n",
            "Epoch 27/100\n",
            "1875/1875 [==============================] - 5s 3ms/step - loss: 0.0333 - accuracy: 0.9897 - val_loss: 0.0395 - val_accuracy: 0.9882\n",
            "Epoch 28/100\n",
            "1875/1875 [==============================] - 5s 3ms/step - loss: 0.0305 - accuracy: 0.9902 - val_loss: 0.0345 - val_accuracy: 0.9903\n",
            "Epoch 29/100\n",
            "1875/1875 [==============================] - 5s 3ms/step - loss: 0.0296 - accuracy: 0.9905 - val_loss: 0.0453 - val_accuracy: 0.9879\n",
            "Epoch 30/100\n",
            "1875/1875 [==============================] - 5s 3ms/step - loss: 0.0323 - accuracy: 0.9896 - val_loss: 0.0343 - val_accuracy: 0.9901\n",
            "Epoch 31/100\n",
            "1875/1875 [==============================] - 5s 3ms/step - loss: 0.0297 - accuracy: 0.9905 - val_loss: 0.0392 - val_accuracy: 0.9888\n",
            "Epoch 32/100\n",
            "1875/1875 [==============================] - 5s 3ms/step - loss: 0.0284 - accuracy: 0.9906 - val_loss: 0.0352 - val_accuracy: 0.9898\n",
            "Epoch 33/100\n",
            "1875/1875 [==============================] - 5s 3ms/step - loss: 0.0305 - accuracy: 0.9895 - val_loss: 0.0336 - val_accuracy: 0.9903\n",
            "Epoch 34/100\n",
            "1875/1875 [==============================] - 5s 3ms/step - loss: 0.0284 - accuracy: 0.9907 - val_loss: 0.0328 - val_accuracy: 0.9912\n",
            "Epoch 35/100\n",
            "1875/1875 [==============================] - 5s 3ms/step - loss: 0.0266 - accuracy: 0.9913 - val_loss: 0.0370 - val_accuracy: 0.9895\n",
            "Epoch 36/100\n",
            "1875/1875 [==============================] - 5s 3ms/step - loss: 0.0272 - accuracy: 0.9910 - val_loss: 0.0417 - val_accuracy: 0.9884\n",
            "Epoch 37/100\n",
            "1875/1875 [==============================] - 5s 3ms/step - loss: 0.0285 - accuracy: 0.9905 - val_loss: 0.0340 - val_accuracy: 0.9907\n",
            "Epoch 38/100\n",
            "1875/1875 [==============================] - 5s 3ms/step - loss: 0.0292 - accuracy: 0.9904 - val_loss: 0.0359 - val_accuracy: 0.9900\n",
            "Epoch 39/100\n",
            "1875/1875 [==============================] - 5s 3ms/step - loss: 0.0261 - accuracy: 0.9913 - val_loss: 0.0382 - val_accuracy: 0.9892\n",
            "Epoch 40/100\n",
            "1875/1875 [==============================] - 5s 3ms/step - loss: 0.0256 - accuracy: 0.9915 - val_loss: 0.0367 - val_accuracy: 0.9899\n",
            "Epoch 41/100\n",
            "1875/1875 [==============================] - 5s 3ms/step - loss: 0.0266 - accuracy: 0.9918 - val_loss: 0.0401 - val_accuracy: 0.9889\n",
            "Epoch 42/100\n",
            "1875/1875 [==============================] - 5s 3ms/step - loss: 0.0266 - accuracy: 0.9908 - val_loss: 0.0358 - val_accuracy: 0.9901\n",
            "Epoch 43/100\n",
            "1875/1875 [==============================] - 5s 3ms/step - loss: 0.0226 - accuracy: 0.9921 - val_loss: 0.0442 - val_accuracy: 0.9884\n",
            "Epoch 44/100\n",
            "1875/1875 [==============================] - 5s 3ms/step - loss: 0.0249 - accuracy: 0.9916 - val_loss: 0.0362 - val_accuracy: 0.9910\n",
            "Epoch 45/100\n",
            "1875/1875 [==============================] - 5s 3ms/step - loss: 0.0239 - accuracy: 0.9921 - val_loss: 0.0398 - val_accuracy: 0.9886\n",
            "Epoch 46/100\n",
            "1875/1875 [==============================] - 5s 3ms/step - loss: 0.0253 - accuracy: 0.9917 - val_loss: 0.0399 - val_accuracy: 0.9894\n",
            "Epoch 47/100\n",
            "1875/1875 [==============================] - 5s 3ms/step - loss: 0.0261 - accuracy: 0.9918 - val_loss: 0.0352 - val_accuracy: 0.9905\n",
            "Epoch 48/100\n",
            "1875/1875 [==============================] - 5s 3ms/step - loss: 0.0239 - accuracy: 0.9923 - val_loss: 0.0393 - val_accuracy: 0.9904\n",
            "Epoch 49/100\n",
            "1875/1875 [==============================] - 5s 3ms/step - loss: 0.0238 - accuracy: 0.9920 - val_loss: 0.0479 - val_accuracy: 0.9899\n",
            "Epoch 50/100\n",
            "1875/1875 [==============================] - 5s 3ms/step - loss: 0.0262 - accuracy: 0.9915 - val_loss: 0.0440 - val_accuracy: 0.9890\n",
            "Epoch 51/100\n",
            "1875/1875 [==============================] - 5s 3ms/step - loss: 0.0275 - accuracy: 0.9914 - val_loss: 0.0389 - val_accuracy: 0.9900\n",
            "Epoch 52/100\n",
            "1875/1875 [==============================] - 5s 3ms/step - loss: 0.0245 - accuracy: 0.9920 - val_loss: 0.0373 - val_accuracy: 0.9887\n",
            "Epoch 53/100\n",
            "1875/1875 [==============================] - 5s 3ms/step - loss: 0.0246 - accuracy: 0.9917 - val_loss: 0.0402 - val_accuracy: 0.9898\n",
            "Epoch 54/100\n",
            "1875/1875 [==============================] - 5s 3ms/step - loss: 0.0227 - accuracy: 0.9928 - val_loss: 0.0369 - val_accuracy: 0.9904\n",
            "Epoch 55/100\n",
            "1875/1875 [==============================] - 5s 3ms/step - loss: 0.0219 - accuracy: 0.9928 - val_loss: 0.0371 - val_accuracy: 0.9900\n",
            "Epoch 56/100\n",
            "1875/1875 [==============================] - 5s 3ms/step - loss: 0.0240 - accuracy: 0.9924 - val_loss: 0.0378 - val_accuracy: 0.9903\n",
            "Epoch 57/100\n",
            "1875/1875 [==============================] - 5s 3ms/step - loss: 0.0246 - accuracy: 0.9918 - val_loss: 0.0417 - val_accuracy: 0.9885\n",
            "Epoch 58/100\n",
            "1875/1875 [==============================] - 5s 3ms/step - loss: 0.0253 - accuracy: 0.9913 - val_loss: 0.0429 - val_accuracy: 0.9895\n",
            "Epoch 59/100\n",
            "1875/1875 [==============================] - 5s 3ms/step - loss: 0.0219 - accuracy: 0.9928 - val_loss: 0.0388 - val_accuracy: 0.9892\n",
            "Epoch 60/100\n",
            "1875/1875 [==============================] - 5s 3ms/step - loss: 0.0248 - accuracy: 0.9913 - val_loss: 0.0447 - val_accuracy: 0.9885\n",
            "Epoch 61/100\n",
            "1875/1875 [==============================] - 5s 3ms/step - loss: 0.0227 - accuracy: 0.9926 - val_loss: 0.0420 - val_accuracy: 0.9896\n",
            "Epoch 62/100\n",
            "1875/1875 [==============================] - 5s 3ms/step - loss: 0.0244 - accuracy: 0.9926 - val_loss: 0.0481 - val_accuracy: 0.9886\n",
            "Epoch 63/100\n",
            "1875/1875 [==============================] - 5s 3ms/step - loss: 0.0228 - accuracy: 0.9925 - val_loss: 0.0455 - val_accuracy: 0.9885\n",
            "Epoch 64/100\n",
            "1875/1875 [==============================] - 5s 3ms/step - loss: 0.0228 - accuracy: 0.9926 - val_loss: 0.0461 - val_accuracy: 0.9878\n",
            "Epoch 65/100\n",
            "1875/1875 [==============================] - 5s 3ms/step - loss: 0.0218 - accuracy: 0.9930 - val_loss: 0.0411 - val_accuracy: 0.9894\n",
            "Epoch 66/100\n",
            "1875/1875 [==============================] - 5s 3ms/step - loss: 0.0218 - accuracy: 0.9931 - val_loss: 0.0416 - val_accuracy: 0.9899\n",
            "Epoch 67/100\n",
            "1875/1875 [==============================] - 5s 3ms/step - loss: 0.0245 - accuracy: 0.9920 - val_loss: 0.0399 - val_accuracy: 0.9900\n",
            "Epoch 68/100\n",
            "1875/1875 [==============================] - 5s 3ms/step - loss: 0.0189 - accuracy: 0.9937 - val_loss: 0.0414 - val_accuracy: 0.9900\n",
            "Epoch 69/100\n",
            "1875/1875 [==============================] - 5s 3ms/step - loss: 0.0255 - accuracy: 0.9918 - val_loss: 0.0425 - val_accuracy: 0.9897\n",
            "Epoch 70/100\n",
            "1875/1875 [==============================] - 5s 3ms/step - loss: 0.0243 - accuracy: 0.9927 - val_loss: 0.0434 - val_accuracy: 0.9900\n",
            "Epoch 71/100\n",
            "1875/1875 [==============================] - 5s 3ms/step - loss: 0.0230 - accuracy: 0.9929 - val_loss: 0.0448 - val_accuracy: 0.9897\n",
            "Epoch 72/100\n",
            "1875/1875 [==============================] - 5s 3ms/step - loss: 0.0204 - accuracy: 0.9930 - val_loss: 0.0429 - val_accuracy: 0.9892\n",
            "Epoch 73/100\n",
            "1875/1875 [==============================] - 5s 3ms/step - loss: 0.0224 - accuracy: 0.9929 - val_loss: 0.0432 - val_accuracy: 0.9897\n",
            "Epoch 74/100\n",
            "1875/1875 [==============================] - 5s 3ms/step - loss: 0.0242 - accuracy: 0.9928 - val_loss: 0.0445 - val_accuracy: 0.9895\n",
            "Epoch 75/100\n",
            "1875/1875 [==============================] - 5s 3ms/step - loss: 0.0224 - accuracy: 0.9929 - val_loss: 0.0462 - val_accuracy: 0.9888\n",
            "Epoch 76/100\n",
            "1875/1875 [==============================] - 5s 3ms/step - loss: 0.0217 - accuracy: 0.9925 - val_loss: 0.0461 - val_accuracy: 0.9889\n",
            "Epoch 77/100\n",
            "1875/1875 [==============================] - 5s 3ms/step - loss: 0.0241 - accuracy: 0.9922 - val_loss: 0.0478 - val_accuracy: 0.9882\n",
            "Epoch 78/100\n",
            "1875/1875 [==============================] - 5s 3ms/step - loss: 0.0229 - accuracy: 0.9929 - val_loss: 0.0464 - val_accuracy: 0.9892\n",
            "Epoch 79/100\n",
            "1875/1875 [==============================] - 5s 3ms/step - loss: 0.0205 - accuracy: 0.9935 - val_loss: 0.0497 - val_accuracy: 0.9873\n",
            "Epoch 80/100\n",
            "1875/1875 [==============================] - 5s 3ms/step - loss: 0.0212 - accuracy: 0.9930 - val_loss: 0.0400 - val_accuracy: 0.9893\n",
            "Epoch 81/100\n",
            "1875/1875 [==============================] - 5s 3ms/step - loss: 0.0215 - accuracy: 0.9931 - val_loss: 0.0435 - val_accuracy: 0.9890\n",
            "Epoch 82/100\n",
            "1875/1875 [==============================] - 5s 3ms/step - loss: 0.0195 - accuracy: 0.9937 - val_loss: 0.0399 - val_accuracy: 0.9893\n",
            "Epoch 83/100\n",
            "1875/1875 [==============================] - 5s 3ms/step - loss: 0.0230 - accuracy: 0.9924 - val_loss: 0.0467 - val_accuracy: 0.9890\n",
            "Epoch 84/100\n",
            "1875/1875 [==============================] - 5s 3ms/step - loss: 0.0212 - accuracy: 0.9932 - val_loss: 0.0439 - val_accuracy: 0.9891\n",
            "Epoch 85/100\n",
            "1875/1875 [==============================] - 5s 3ms/step - loss: 0.0211 - accuracy: 0.9933 - val_loss: 0.0429 - val_accuracy: 0.9896\n",
            "Epoch 86/100\n",
            "1875/1875 [==============================] - 5s 3ms/step - loss: 0.0197 - accuracy: 0.9935 - val_loss: 0.0531 - val_accuracy: 0.9882\n",
            "Epoch 87/100\n",
            "1875/1875 [==============================] - 5s 3ms/step - loss: 0.0208 - accuracy: 0.9932 - val_loss: 0.0458 - val_accuracy: 0.9893\n",
            "Epoch 88/100\n",
            "1875/1875 [==============================] - 5s 3ms/step - loss: 0.0190 - accuracy: 0.9938 - val_loss: 0.0469 - val_accuracy: 0.9890\n",
            "Epoch 89/100\n",
            "1875/1875 [==============================] - 5s 3ms/step - loss: 0.0209 - accuracy: 0.9935 - val_loss: 0.0466 - val_accuracy: 0.9888\n",
            "Epoch 90/100\n",
            "1875/1875 [==============================] - 5s 3ms/step - loss: 0.0202 - accuracy: 0.9935 - val_loss: 0.0467 - val_accuracy: 0.9906\n",
            "Epoch 91/100\n",
            "1875/1875 [==============================] - 5s 3ms/step - loss: 0.0216 - accuracy: 0.9931 - val_loss: 0.0447 - val_accuracy: 0.9899\n",
            "Epoch 92/100\n",
            "1875/1875 [==============================] - 5s 3ms/step - loss: 0.0205 - accuracy: 0.9929 - val_loss: 0.0493 - val_accuracy: 0.9903\n",
            "Epoch 93/100\n",
            "1875/1875 [==============================] - 5s 3ms/step - loss: 0.0188 - accuracy: 0.9939 - val_loss: 0.0511 - val_accuracy: 0.9882\n",
            "Epoch 94/100\n",
            "1875/1875 [==============================] - 5s 3ms/step - loss: 0.0192 - accuracy: 0.9937 - val_loss: 0.0497 - val_accuracy: 0.9891\n",
            "Epoch 95/100\n",
            "1875/1875 [==============================] - 5s 3ms/step - loss: 0.0207 - accuracy: 0.9937 - val_loss: 0.0447 - val_accuracy: 0.9890\n",
            "Epoch 96/100\n",
            "1875/1875 [==============================] - 5s 3ms/step - loss: 0.0209 - accuracy: 0.9935 - val_loss: 0.0429 - val_accuracy: 0.9883\n",
            "Epoch 97/100\n",
            "1875/1875 [==============================] - 5s 3ms/step - loss: 0.0184 - accuracy: 0.9946 - val_loss: 0.0481 - val_accuracy: 0.9883\n",
            "Epoch 98/100\n",
            "1875/1875 [==============================] - 5s 3ms/step - loss: 0.0211 - accuracy: 0.9931 - val_loss: 0.0459 - val_accuracy: 0.9901\n",
            "Epoch 99/100\n",
            "1875/1875 [==============================] - 5s 3ms/step - loss: 0.0213 - accuracy: 0.9937 - val_loss: 0.0436 - val_accuracy: 0.9909\n",
            "Epoch 100/100\n",
            "1875/1875 [==============================] - 5s 3ms/step - loss: 0.0198 - accuracy: 0.9940 - val_loss: 0.0485 - val_accuracy: 0.9888\n",
            "Large CNN Error: 1.12%\n"
          ],
          "name": "stdout"
        }
      ]
    },
    {
      "cell_type": "code",
      "metadata": {
        "colab": {
          "base_uri": "https://localhost:8080/"
        },
        "id": "aurZsotICmiq",
        "outputId": "b351bce9-4d1a-4917-eeb4-e9b46a6cf5a9"
      },
      "source": [
        "#  - - - - - - - TEST single image - - - - - - - -\n",
        "\n",
        "image = (X_test[1]).reshape(1,1,28,28) # 1->'2';\n",
        "model_pred = model.predict_classes(image, verbose = 0)\n",
        "print('Prediction of model: {}'.format(model_pred[0]))"
      ],
      "execution_count": null,
      "outputs": [
        {
          "output_type": "stream",
          "text": [
            "Prediction of model: 2\n"
          ],
          "name": "stdout"
        },
        {
          "output_type": "stream",
          "text": [
            "/usr/local/lib/python3.6/dist-packages/tensorflow/python/keras/engine/sequential.py:450: UserWarning: `model.predict_classes()` is deprecated and will be removed after 2021-01-01. Please use instead:* `np.argmax(model.predict(x), axis=-1)`,   if your model does multi-class classification   (e.g. if it uses a `softmax` last-layer activation).* `(model.predict(x) > 0.5).astype(\"int32\")`,   if your model does binary classification   (e.g. if it uses a `sigmoid` last-layer activation).\n",
            "  warnings.warn('`model.predict_classes()` is deprecated and '\n"
          ],
          "name": "stderr"
        }
      ]
    },
    {
      "cell_type": "code",
      "metadata": {
        "colab": {
          "base_uri": "https://localhost:8080/",
          "height": 402
        },
        "id": "7c9CFxFgE0dD",
        "outputId": "de6091d1-a63f-45d1-f636-06a6dd3890dc"
      },
      "source": [
        "# - - - - - - TESTING multiple image - - - - - - - - - -\n",
        "\n",
        "test_images = X_test[1:5]\n",
        "test_images = test_images.reshape(test_images.shape[0], 28, 28)\n",
        "print (\"Test images shape: {}\".format(test_images.shape))\n",
        "\n",
        "for i, test_image in enumerate(test_images, start=1):\n",
        "    org_image = test_image\n",
        "    test_image = test_image.reshape(1,1,28,28)\n",
        "    prediction = model.predict_classes(test_image, verbose=0)\n",
        "\n",
        "    print (\"Predicted digit: {}\".format(prediction[0]))\n",
        "    plt.subplot(220+i)\n",
        "    plt.axis('off')\n",
        "    plt.title(\"Predicted digit: {}\".format(prediction[0]))\n",
        "    plt.imshow(org_image, cmap=plt.get_cmap('gray'))\n",
        "\n",
        "plt.show()"
      ],
      "execution_count": null,
      "outputs": [
        {
          "output_type": "stream",
          "text": [
            "Test images shape: (4, 28, 28)\n",
            "Predicted digit: 2\n",
            "Predicted digit: 1\n",
            "Predicted digit: 0\n",
            "Predicted digit: 4\n"
          ],
          "name": "stdout"
        },
        {
          "output_type": "stream",
          "text": [
            "/usr/local/lib/python3.6/dist-packages/tensorflow/python/keras/engine/sequential.py:450: UserWarning: `model.predict_classes()` is deprecated and will be removed after 2021-01-01. Please use instead:* `np.argmax(model.predict(x), axis=-1)`,   if your model does multi-class classification   (e.g. if it uses a `softmax` last-layer activation).* `(model.predict(x) > 0.5).astype(\"int32\")`,   if your model does binary classification   (e.g. if it uses a `sigmoid` last-layer activation).\n",
            "  warnings.warn('`model.predict_classes()` is deprecated and '\n"
          ],
          "name": "stderr"
        },
        {
          "output_type": "display_data",
          "data": {
            "image/png": "[encoded data removed]",
            "text/plain": [
              "<Figure size 432x288 with 4 Axes>"
            ]
          },
          "metadata": {
            "tags": [],
            "needs_background": "light"
          }
        }
      ]
    },
    {
      "cell_type": "code",
      "metadata": {
        "colab": {
          "base_uri": "https://localhost:8080/"
        },
        "id": "rFOFv2R-E6d3",
        "outputId": "4d97cf47-072e-4ec7-c70d-41e71b059cf7"
      },
      "source": [
        "# - - - - - - - SAVE THE MODEL - - - - - - - -\n",
        "# serialize model to JSON\n",
        "model_json = model.to_json()\n",
        "with open(\"model.json\", \"w\") as json_file:\n",
        "    json_file.write(model_json)\n",
        "# serialize weights to HDF5\n",
        "model.save_weights(\"model.h5\")\n",
        "print(\"Saved model to disk\")"
      ],
      "execution_count": null,
      "outputs": [
        {
          "output_type": "stream",
          "text": [
            "Saved model to disk\n"
          ],
          "name": "stdout"
        }
      ]
    },
    {
      "cell_type": "code",
      "metadata": {
        "id": "G-ngHbOkFIVY"
      },
      "source": [],
      "execution_count": null,
      "outputs": []
    }
  ]
}